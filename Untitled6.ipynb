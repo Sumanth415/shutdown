{
 "cells": [
  {
   "cell_type": "code",
   "execution_count": 33,
   "id": "d41120a7-6a6a-4e4f-ba5f-38466b1c1ddc",
   "metadata": {},
   "outputs": [],
   "source": [
    "from tkinter import *\n",
    "import os\n",
    "def handle_command():\n",
    "    command = entry.get().lower() \n",
    "    if command == \"shutdown\":\n",
    "            os.system(\"shutdown /s /t 1\")\n",
    "    elif command == \"restart\":\n",
    "            os.system(\"shutdown /r /t 1\")\n",
    "    elif command == \"logout\":\n",
    "            os.system(\"shutdown -l\")\n",
    "    else:\n",
    "        messagebox.showerror(\"Error\", \"Invalid command. Please enter 'shutdown', 'restart', or 'logout'.\")\n",
    "\n",
    "master = Tk()\n",
    "entry = Entry()\n",
    "entry.grid(row=1, column=0, padx=20, pady=1)\n",
    "Button( text=\"Submit\", command=handle_command).grid(row=2, column=0, padx=20, pady=10)\n",
    "master.mainloop()\n"
   ]
  }
 ],
 "metadata": {
  "kernelspec": {
   "display_name": "Python 3 (ipykernel)",
   "language": "python",
   "name": "python3"
  },
  "language_info": {
   "codemirror_mode": {
    "name": "ipython",
    "version": 3
   },
   "file_extension": ".py",
   "mimetype": "text/x-python",
   "name": "python",
   "nbconvert_exporter": "python",
   "pygments_lexer": "ipython3",
   "version": "3.12.4"
  }
 },
 "nbformat": 4,
 "nbformat_minor": 5
}
